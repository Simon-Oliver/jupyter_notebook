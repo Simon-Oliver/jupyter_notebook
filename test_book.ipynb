{
 "metadata": {
  "language_info": {
   "codemirror_mode": {
    "name": "ipython",
    "version": 3
   },
   "file_extension": ".py",
   "mimetype": "text/x-python",
   "name": "python",
   "nbconvert_exporter": "python",
   "pygments_lexer": "ipython3",
   "version": "3.8.3-final"
  },
  "orig_nbformat": 2,
  "kernelspec": {
   "name": "python383jvsc74a57bd03121ea389803bdeed04037cf33628cb2ab54b7f41bcf5f594ffc65a16de58dbc",
   "display_name": "Python 3.8.3 64-bit ('base': conda)"
  }
 },
 "nbformat": 4,
 "nbformat_minor": 2,
 "cells": [
  {
   "cell_type": "code",
   "execution_count": 2,
   "metadata": {},
   "outputs": [],
   "source": [
    "from bs4 import BeautifulSoup\n",
    "import requests\n",
    "\n",
    "res = requests.get('https://webscraper.io/test-sites/e-commerce/static/computers/laptops')"
   ]
  },
  {
   "cell_type": "code",
   "execution_count": 40,
   "metadata": {},
   "outputs": [],
   "source": [
    "html = res.text\n",
    "soup = BeautifulSoup(html, 'html.parser')\n",
    "# print(soup.prettify())\n",
    "arr = []\n",
    "cards = soup.find_all(\"div\", \"thumbnail\")\n",
    "\n",
    "for card in cards:\n",
    "    obj = {}\n",
    "    obj['title'] = card.find(\"a\",\"title\").text\n",
    "    obj['price'] = card.find(\"h4\", \"price\").text\n",
    "    obj['description'] = card.find(\"p\", \"description\").text\n",
    "    arr.append(obj)"
   ]
  },
  {
   "cell_type": "code",
   "execution_count": 47,
   "metadata": {},
   "outputs": [
    {
     "output_type": "stream",
     "name": "stdout",
     "text": [
      "['https://webscraper.io//test-sites/e-commerce/static/computers/laptops?page=2', 'https://webscraper.io//test-sites/e-commerce/static/computers/laptops?page=3', 'https://webscraper.io//test-sites/e-commerce/static/computers/laptops?page=4', 'https://webscraper.io//test-sites/e-commerce/static/computers/laptops?page=5', 'https://webscraper.io//test-sites/e-commerce/static/computers/laptops?page=6', 'https://webscraper.io//test-sites/e-commerce/static/computers/laptops?page=7', 'https://webscraper.io//test-sites/e-commerce/static/computers/laptops?page=8', 'https://webscraper.io//test-sites/e-commerce/static/computers/laptops?page=19', 'https://webscraper.io//test-sites/e-commerce/static/computers/laptops?page=20', 'https://webscraper.io//test-sites/e-commerce/static/computers/laptops?page=2']\n"
     ]
    }
   ],
   "source": [
    "page_links = soup.find_all(\"a\", \"page-link\")\n",
    "pages = []\n",
    "for page in page_links:\n",
    "    pages.append(\"https://webscraper.io/\" + page['href'])\n",
    "\n",
    "print(pages)"
   ]
  },
  {
   "cell_type": "code",
   "execution_count": null,
   "metadata": {},
   "outputs": [],
   "source": []
  }
 ]
}