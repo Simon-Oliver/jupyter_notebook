{
 "metadata": {
  "language_info": {
   "codemirror_mode": {
    "name": "ipython",
    "version": 3
   },
   "file_extension": ".py",
   "mimetype": "text/x-python",
   "name": "python",
   "nbconvert_exporter": "python",
   "pygments_lexer": "ipython3",
   "version": "3.8.8"
  },
  "orig_nbformat": 2,
  "kernelspec": {
   "name": "python388jvsc74a57bd03121ea389803bdeed04037cf33628cb2ab54b7f41bcf5f594ffc65a16de58dbc",
   "display_name": "Python 3.8.8 64-bit ('base': conda)"
  }
 },
 "nbformat": 4,
 "nbformat_minor": 2,
 "cells": [
  {
   "cell_type": "code",
   "execution_count": 14,
   "metadata": {},
   "outputs": [
    {
     "output_type": "stream",
     "name": "stdout",
     "text": [
      "[('Test2', 80000, 'Boom'), ('Test1', 50000, 'Hoop'), ('Test5', 10000, 'Whoop')]\nMax\n"
     ]
    }
   ],
   "source": [
    "mytuples = [(\"Test1\",50000,\"Hoop\"),(\"Test5\",10000,\"Whoop\"),(\"Test2\",80000,\"Boom\")]\n",
    "mytuples.sort(key= lambda x:x[2])\n",
    "\n",
    "print(mytuples)\n"
   ]
  },
  {
   "cell_type": "code",
   "execution_count": 25,
   "metadata": {},
   "outputs": [
    {
     "output_type": "stream",
     "name": "stdout",
     "text": [
      "name Max\nage 15\ncity Oslo\n"
     ]
    }
   ],
   "source": [
    "obj = {\"name\":\"Max\", 'age':15, \"city\":\"Oslo\"}\n",
    "\n",
    "for key,value in obj.items():\n",
    "    print(key, value)\n",
    "\n",
    "\n"
   ]
  },
  {
   "cell_type": "code",
   "execution_count": 8,
   "metadata": {},
   "outputs": [
    {
     "output_type": "stream",
     "name": "stdout",
     "text": [
      "12 3\n22 1\n56 3\n"
     ]
    }
   ],
   "source": [
    "from itertools import groupby\n",
    "\n",
    "persons = [{\"name\":\"max\", \"age\": 12}, {\"name\":\"Phil\", \"age\": 22},{\"name\":\"Muster\", \"age\": 12}, {\"name\":\"Oli\", \"age\": 12}, {\"name\":\"Simon\", \"age\": 56},{\"name\":\"Chris\", \"age\": 56}, {\"name\":\"Hans\", \"age\": 56} ]\n",
    "\n",
    "sortedobj = sorted(persons,key=lambda x: x[\"age\"])\n",
    "\n",
    "grouped_obj = groupby(sortedobj, key=lambda x: x['age'])\n",
    "for key, value in grouped_obj:\n",
    "    print(key, len(list(value)))"
   ]
  },
  {
   "cell_type": "code",
   "execution_count": 17,
   "metadata": {},
   "outputs": [
    {
     "output_type": "stream",
     "name": "stdout",
     "text": [
      "True\n"
     ]
    }
   ],
   "source": [
    "user_input = input(\"Enter something: \")\n",
    "print(isinstance(user_input,str))"
   ]
  },
  {
   "cell_type": "code",
   "execution_count": 21,
   "metadata": {},
   "outputs": [],
   "source": [
    "import json\n",
    "\n",
    "data = [{\n",
    "  \"id\": 1,\n",
    "  \"first_name\": \"Dione\",\n",
    "  \"last_name\": \"Marris\",\n",
    "  \"email\": \"dmarris0@virginia.edu\",\n",
    "  \"gender\": \"Non-binary\",\n",
    "  \"ip_address\": \"235.87.65.94\"\n",
    "}, {\n",
    "  \"id\": 2,\n",
    "  \"first_name\": \"Trudi\",\n",
    "  \"last_name\": \"Luberti\",\n",
    "  \"email\": \"tluberti1@nymag.com\",\n",
    "  \"gender\": \"Polygender\",\n",
    "  \"ip_address\": \"146.1.5.186\"\n",
    "}, {\n",
    "  \"id\": 3,\n",
    "  \"first_name\": \"Orazio\",\n",
    "  \"last_name\": \"Pagen\",\n",
    "  \"email\": \"opagen2@sbwire.com\",\n",
    "  \"gender\": \"Agender\",\n",
    "  \"ip_address\": \"114.148.167.137\"\n",
    "}, {\n",
    "  \"id\": 4,\n",
    "  \"first_name\": \"Cloe\",\n",
    "  \"last_name\": \"Stone\",\n",
    "  \"email\": \"cstone3@de.vu\",\n",
    "  \"gender\": \"Male\",\n",
    "  \"ip_address\": \"100.165.151.86\"\n",
    "}, {\n",
    "  \"id\": 5,\n",
    "  \"first_name\": \"Brook\",\n",
    "  \"last_name\": \"Furmonger\",\n",
    "  \"email\": \"bfurmonger4@weibo.com\",\n",
    "  \"gender\": \"Polygender\",\n",
    "  \"ip_address\": \"68.0.158.111\"\n",
    "}]\n"
   ]
  },
  {
   "cell_type": "code",
   "execution_count": 1,
   "metadata": {},
   "outputs": [
    {
     "output_type": "stream",
     "name": "stdout",
     "text": [
      "['item', 'something', 'item', 'item', 'something']\n"
     ]
    }
   ],
   "source": [
    "filter_items = [\"item\", \"something\"]\n",
    "items = ['apple', \"item\", \"orange\",\"max\",\"james\",\"ben\", \"something\", \"item\",\"item\",\"something\"]\n",
    "\n",
    "filtered[:] = [item for item in items if item in filter_items]\n",
    "print(filtered)"
   ]
  },
  {
   "cell_type": "code",
   "execution_count": null,
   "metadata": {},
   "outputs": [],
   "source": []
  }
 ]
}