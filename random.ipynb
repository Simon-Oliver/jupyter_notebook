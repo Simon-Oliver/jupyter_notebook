{
 "metadata": {
  "language_info": {
   "codemirror_mode": {
    "name": "ipython",
    "version": 3
   },
   "file_extension": ".py",
   "mimetype": "text/x-python",
   "name": "python",
   "nbconvert_exporter": "python",
   "pygments_lexer": "ipython3",
   "version": "3.9.7"
  },
  "orig_nbformat": 2,
  "kernelspec": {
   "name": "python3",
   "display_name": "Python 3.9.7 64-bit"
  },
  "interpreter": {
   "hash": "aee8b7b246df8f9039afb4144a1f6fd8d2ca17a180786b69acc140d282b71a49"
  }
 },
 "nbformat": 4,
 "nbformat_minor": 2,
 "cells": [
  {
   "cell_type": "code",
   "execution_count": 3,
   "source": [
    "class Animal:\n",
    "    def __init__(self, name = None,age = 0 ,sex = None,food = None):\n",
    "        self.name = name\n",
    "        self.age = age\n",
    "        self.sex = sex\n",
    "        self.food = food\n",
    "\n",
    "\n",
    "class Dog(Animal):\n",
    "    def __init__(self, name,age,sex,food,sound):\n",
    "        super().__init__(name,age,sex,food)\n",
    "        self.sound = sound\n",
    "\n",
    "    def bark(self):\n",
    "        print(self.sound + \" \" + str(self.age))\n",
    "\n",
    "        \n",
    "noneAnimal = Animal(\"Remy\", sex=\"male\")\n",
    "anim = Animal(\"Exotic Animal\", 6, 'female', \"Berries\")\n",
    "rex = Dog(\"rex\", 4, \"male\" , \"Steak\" ,\"whoof i'm rex\")\n",
    "rex.bark()\n",
    "\n",
    "print(noneAnimal.sex)\n",
    "print(anim.name, anim.sex)\n",
    "print(anim.name, anim.sex)\n",
    "print(anim.name, anim.sex)"
   ],
   "outputs": [
    {
     "output_type": "stream",
     "name": "stdout",
     "text": [
      "whoof i'm rex 4\n",
      "male\n",
      "Exotic Animal female\n"
     ]
    }
   ],
   "metadata": {}
  },
  {
   "cell_type": "code",
   "execution_count": null,
   "source": [],
   "outputs": [],
   "metadata": {}
  }
 ]
}