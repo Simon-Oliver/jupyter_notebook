{
 "metadata": {
  "language_info": {
   "codemirror_mode": {
    "name": "ipython",
    "version": 3
   },
   "file_extension": ".py",
   "mimetype": "text/x-python",
   "name": "python",
   "nbconvert_exporter": "python",
   "pygments_lexer": "ipython3",
   "version": "3.8.3-final"
  },
  "orig_nbformat": 2,
  "kernelspec": {
   "name": "python383jvsc74a57bd03121ea389803bdeed04037cf33628cb2ab54b7f41bcf5f594ffc65a16de58dbc",
   "display_name": "Python 3.8.3 64-bit ('base': conda)"
  }
 },
 "nbformat": 4,
 "nbformat_minor": 2,
 "cells": [
  {
   "cell_type": "code",
   "execution_count": 6,
   "metadata": {},
   "outputs": [
    {
     "output_type": "stream",
     "name": "stdout",
     "text": [
      "whoof i'm rex\nmale\n"
     ]
    }
   ],
   "source": [
    "class Animal:\n",
    "    def __init__(self, name = None,age = 0 ,sex = None,food = None):\n",
    "        self.name = name\n",
    "        self.age = age\n",
    "        self.sex = sex\n",
    "        self.food = food\n",
    "\n",
    "\n",
    "class Dog(Animal):\n",
    "    def __init__(self, name,age,sex,food,sound):\n",
    "        super().__init__(name,age,sex,food)\n",
    "        self.sound = sound\n",
    "\n",
    "    def bark(self):\n",
    "        print(self.sound)\n",
    "\n",
    "        \n",
    "noneAnimal = Animal(\"Remy\", sex=\"male\")\n",
    "anim = Animal(\"Exotic Animal\", 6, 'female', \"Berries\")\n",
    "rex = Dog(\"rex\", 4, \"male\" , \"Steak\" ,\"whoof i'm rex\")\n",
    "rex.bark()\n",
    "\n",
    "print(noneAnimal.sex)"
   ]
  },
  {
   "cell_type": "code",
   "execution_count": null,
   "metadata": {},
   "outputs": [],
   "source": []
  }
 ]
}