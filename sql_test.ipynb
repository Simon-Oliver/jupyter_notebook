{
 "metadata": {
  "language_info": {
   "codemirror_mode": {
    "name": "ipython",
    "version": 3
   },
   "file_extension": ".py",
   "mimetype": "text/x-python",
   "name": "python",
   "nbconvert_exporter": "python",
   "pygments_lexer": "ipython3",
   "version": "3.8.8"
  },
  "orig_nbformat": 4,
  "kernelspec": {
   "name": "python3",
   "display_name": "Python 3.8.8 64-bit ('base': conda)"
  },
  "interpreter": {
   "hash": "3121ea389803bdeed04037cf33628cb2ab54b7f41bcf5f594ffc65a16de58dbc"
  }
 },
 "nbformat": 4,
 "nbformat_minor": 2,
 "cells": [
  {
   "cell_type": "code",
   "execution_count": 22,
   "metadata": {
    "tags": []
   },
   "outputs": [
    {
     "output_type": "stream",
     "name": "stdout",
     "text": [
      "[(1761, 'Samantha Davis', 123739)]\n[]\n"
     ]
    }
   ],
   "source": [
    "import sqlite3\n",
    "\n",
    "conn = sqlite3.connect(\"test.db\")\n",
    "cur = conn.cursor()\n",
    "\n",
    "search = \"\"\"SELECT epp.emp_id, e.name, sum(epp) from epp INNER JOIN employees e ON epp.emp_id = e.emp_id WHERE e.name = 'Samantha Davis' \"\"\"\n",
    "\n",
    "cur.execute(search)\n",
    "data = cur.fetchall()\n",
    "\n",
    "print(data)\n",
    "\n",
    "search = \"\"\"PRAGMA table_info(employees)\"\"\"\n",
    "cur.execute(search)\n",
    "data = cur.fetchall()\n",
    "print(data)\n"
   ]
  },
  {
   "cell_type": "code",
   "execution_count": null,
   "metadata": {},
   "outputs": [],
   "source": []
  }
 ]
}