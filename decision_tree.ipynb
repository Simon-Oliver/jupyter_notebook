{
 "metadata": {
  "language_info": {
   "codemirror_mode": {
    "name": "ipython",
    "version": 3
   },
   "file_extension": ".py",
   "mimetype": "text/x-python",
   "name": "python",
   "nbconvert_exporter": "python",
   "pygments_lexer": "ipython3",
   "version": "3.8.3-final"
  },
  "orig_nbformat": 2,
  "kernelspec": {
   "name": "python383jvsc74a57bd03121ea389803bdeed04037cf33628cb2ab54b7f41bcf5f594ffc65a16de58dbc",
   "display_name": "Python 3.8.3 64-bit ('base': conda)"
  }
 },
 "nbformat": 4,
 "nbformat_minor": 2,
 "cells": [
  {
   "cell_type": "code",
   "execution_count": 2,
   "metadata": {
    "tags": []
   },
   "outputs": [
    {
     "output_type": "execute_result",
     "data": {
      "text/plain": [
       "DecisionTreeRegressor(random_state=1)"
      ]
     },
     "metadata": {},
     "execution_count": 2
    }
   ],
   "source": [
    "import csv\n",
    "import pandas as pd\n",
    "import pprint\n",
    "from sklearn.tree import DecisionTreeRegressor\n",
    "\n",
    "melb_data = pd.read_csv(\"melb_data.csv\")\n",
    "melb_data = melb_data.dropna(axis=0)\n",
    "y = melb_data.Price\n",
    "melb_features = ['Rooms', 'Bathroom', 'Landsize', 'Lattitude', 'Longtitude']\n",
    "X = melb_data[melb_features]\n",
    "\n",
    "train_X, val_X, train_y, val_y = train_test_split(X, y, random_state = 0)\n",
    "\n",
    "melb_model = DecisionTreeRegressor(random_state=1)\n",
    "melb_model.fit(X,y)"
   ]
  },
  {
   "cell_type": "code",
   "execution_count": 4,
   "metadata": {},
   "outputs": [
    {
     "output_type": "stream",
     "name": "stdout",
     "text": [
      "Making predictions for the following 5 houses:\n   Rooms  Bathroom  Landsize  Lattitude  Longtitude\n1      2       1.0     156.0   -37.8079    144.9934\n2      3       2.0     134.0   -37.8093    144.9944\n4      4       1.0     120.0   -37.8072    144.9941\n6      3       2.0     245.0   -37.8024    144.9993\n7      2       1.0     256.0   -37.8060    144.9954\nThe predictions are\n[1035000. 1465000. 1600000. 1876000. 1636000.]\n"
     ]
    }
   ],
   "source": [
    "print(\"Making predictions for the following 5 houses:\")\n",
    "print(X.head())\n",
    "print(\"The predictions are\")\n",
    "print(melb_model.predict(X.head()))"
   ]
  },
  {
   "cell_type": "code",
   "execution_count": null,
   "metadata": {},
   "outputs": [],
   "source": []
  }
 ]
}